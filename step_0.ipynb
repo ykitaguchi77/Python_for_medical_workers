{
  "nbformat": 4,
  "nbformat_minor": 0,
  "metadata": {
    "colab": {
      "name": "Untitled21.ipynb",
      "provenance": [],
      "authorship_tag": "ABX9TyM/ha77ErxWIzmjk25jxiA7",
      "include_colab_link": true
    },
    "kernelspec": {
      "name": "python3",
      "display_name": "Python 3"
    },
    "language_info": {
      "name": "python"
    }
  },
  "cells": [
    {
      "cell_type": "markdown",
      "metadata": {
        "id": "view-in-github",
        "colab_type": "text"
      },
      "source": [
        "<a href=\"https://colab.research.google.com/github/ykitaguchi77/Python_for_medical_workers/blob/main/step_0.ipynb\" target=\"_parent\"><img src=\"https://colab.research.google.com/assets/colab-badge.svg\" alt=\"Open In Colab\"/></a>"
      ]
    },
    {
      "cell_type": "markdown",
      "source": [
        "#**医療従事者のためのPython講座**"
      ],
      "metadata": {
        "id": "zJeEERCCCKuM"
      }
    },
    {
      "cell_type": "markdown",
      "source": [
        "##**本講座のbefore-after**\n",
        "\n",
        "### before: プログラム未経験者、昔すこしかじった程度\n",
        "\n",
        "### after: Pythonを用いてデータを分析できる、Deep learningを用いた研究ができる"
      ],
      "metadata": {
        "id": "JvnT7suvCQP2"
      }
    },
    {
      "cell_type": "markdown",
      "source": [
        "## **講座の概要**\n",
        "\n",
        "### step1: Pythonで何ができるか実際に触ってみよう\n",
        "\n",
        "### step2: Pythonの基本的な使い方を知ろう\n",
        "\n",
        "#### 2-1 環境整備\n",
        "\n",
        "#### 2-2 文法\n",
        "\n",
        "#### 2-3 表計算\n",
        "\n",
        "#### 2-4 画像処理\n",
        "\n",
        "#### 2-5 分からない時の調べ方\n",
        "\n",
        "\n"
      ],
      "metadata": {
        "id": "KPajjLY2DBS7"
      }
    }
  ]
}